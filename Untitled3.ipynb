{
  "nbformat": 4,
  "nbformat_minor": 0,
  "metadata": {
    "colab": {
      "provenance": [],
      "authorship_tag": "ABX9TyMO3BB8aAh/PvOuxThk1z3X",
      "include_colab_link": true
    },
    "kernelspec": {
      "name": "python3",
      "display_name": "Python 3"
    },
    "language_info": {
      "name": "python"
    }
  },
  "cells": [
    {
      "cell_type": "markdown",
      "metadata": {
        "id": "view-in-github",
        "colab_type": "text"
      },
      "source": [
        "<a href=\"https://colab.research.google.com/github/LegendCat08/Test/blob/main/Untitled3.ipynb\" target=\"_parent\"><img src=\"https://colab.research.google.com/assets/colab-badge.svg\" alt=\"Open In Colab\"/></a>"
      ]
    },
    {
      "cell_type": "markdown",
      "source": [
        "### 라이브러리 설명\n",
        "\n",
        "* OpenCV: 컴퓨터 비전 라이브러리\n",
        "* NumPy: 행렬, 벡터, 스칼라같은 수 데이터를 처리하고 연산하기 위한 라이브러리\n",
        "* Pasdas"
      ],
      "metadata": {
        "id": "E4VxhnYFHS6b"
      }
    },
    {
      "cell_type": "code",
      "execution_count": 1,
      "metadata": {
        "colab": {
          "base_uri": "https://localhost:8080/"
        },
        "id": "pbmaiJJ3FtlX",
        "outputId": "0f847bbd-3640-4923-e09a-b3a407b82745"
      },
      "outputs": [
        {
          "output_type": "stream",
          "name": "stdout",
          "text": [
            "Hello World\n"
          ]
        }
      ],
      "source": [
        "import cv2 #컴퓨터 비전 라이브러리\n",
        "import numpy as np #행렬 => 2차원 배열, 벡터 => 1차원 배열, 스칼라 => 변수\n",
        "import pandas as pd #엑셀 데이터를 처리\n",
        "import matplotlib # 시각화 라이브러리\n"
      ]
    }
  ]
}